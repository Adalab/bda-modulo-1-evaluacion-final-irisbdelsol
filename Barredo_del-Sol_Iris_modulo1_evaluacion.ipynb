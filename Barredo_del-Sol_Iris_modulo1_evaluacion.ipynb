{
 "cells": [
  {
   "cell_type": "code",
   "execution_count": 16,
   "id": "d81c14cc",
   "metadata": {},
   "outputs": [],
   "source": [
    "#Ejercicio 1\n",
    "\n",
    "inventario = []\n",
    "clientes = {}\n",
    "ventas_totales = 0.0"
   ]
  },
  {
   "cell_type": "code",
   "execution_count": null,
   "id": "ccd5475f",
   "metadata": {},
   "outputs": [],
   "source": [
    "inventario = [{\"nombre\": \"camisa\", \"precio\": 20, \"cantidad\": 3},  #creamos un inventario\n",
    "    {\"nombre\": \"zapatos\", \"precio\": 25, \"cantidad\": 4},\n",
    "    {\"nombre\": \"sombrero\", \"precio\": 10, \"cantidad\": 5}]"
   ]
  },
  {
   "cell_type": "code",
   "execution_count": null,
   "id": "1f7dd08d",
   "metadata": {},
   "outputs": [],
   "source": [
    "def agregar_producto(nombre, precio, cantidad): #para agregar un producto\n",
    "    encontrado = False\n",
    "    for producto in inventario: #para buscar DENTRO del inventario\n",
    "        if producto[\"nombre\"] == nombre: #para comprobar si un producto ya está en inventario\n",
    "                    producto[\"cantidad\"] += cantidad\n",
    "                    encontrado = True\n",
    "                    break\n",
    "        if not encontrado: #para ver si ya existe\n",
    "            nuevo = {\"nombre\": nombre, \"precio\": precio, \"cantidad\": cantidad}\n",
    "            inventario.append(nuevo) #para añadirlo si no existe\n",
    "        print(f\"Producto '{nombre}' agregado al inventario.\")"
   ]
  },
  {
   "cell_type": "code",
   "execution_count": null,
   "id": "74806583",
   "metadata": {},
   "outputs": [
    {
     "name": "stdout",
     "output_type": "stream",
     "text": [
      "Producto 'abrigo' agregado al inventario.\n",
      "Producto 'abrigo' agregado al inventario.\n",
      "Producto 'abrigo' agregado al inventario.\n",
      "[{'nombre': 'camisa', 'precio': 20, 'cantidad': 5}, {'nombre': 'zapatos', 'precio': 25, 'cantidad': 4}, {'nombre': 'sombrero', 'precio': 10, 'cantidad': 5}, {'nombre': 'abrigo', 'precio': 30, 'cantidad': 18}, {'nombre': 'abrigo', 'precio': 30, 'cantidad': 6}, {'nombre': 'abrigo', 'precio': 30, 'cantidad': 6}, {'nombre': 'abrigo', 'precio': 30, 'cantidad': 6}, {'nombre': 'abrigo', 'precio': 30, 'cantidad': 6}, {'nombre': 'abrigo', 'precio': 30, 'cantidad': 6}]\n"
     ]
    }
   ],
   "source": [
    "agregar_producto(\"abrigo\", 30, 6)  #vemos si se añadió\n",
    "print(inventario)"
   ]
  },
  {
   "cell_type": "code",
   "execution_count": 21,
   "id": "d6b7265d",
   "metadata": {},
   "outputs": [
    {
     "name": "stdout",
     "output_type": "stream",
     "text": [
      "[{'nombre': 'camisa', 'precio': 20, 'cantidad': 5}, {'nombre': 'zapatos', 'precio': 25, 'cantidad': 4}, {'nombre': 'sombrero', 'precio': 10, 'cantidad': 5}, {'nombre': 'abrigo', 'precio': 30, 'cantidad': 18}, {'nombre': 'abrigo', 'precio': 30, 'cantidad': 6}, {'nombre': 'abrigo', 'precio': 30, 'cantidad': 6}, {'nombre': 'abrigo', 'precio': 30, 'cantidad': 6}, {'nombre': 'abrigo', 'precio': 30, 'cantidad': 6}, {'nombre': 'abrigo', 'precio': 30, 'cantidad': 6}]\n"
     ]
    }
   ],
   "source": [
    "print(inventario)"
   ]
  },
  {
   "cell_type": "code",
   "execution_count": 1,
   "id": "d05e8b90",
   "metadata": {},
   "outputs": [],
   "source": [
    "#Ejercicio 2\n",
    "\n",
    "inventario = [{\"nombre\": \"camisa\", \"precio\": 20, \"cantidad\": 3},  #copiamos inventario\n",
    "    {\"nombre\": \"zapatos\", \"precio\": 25, \"cantidad\": 4},\n",
    "    {\"nombre\": \"sombrero\", \"precio\": 10, \"cantidad\": 5}]\n",
    "\n",
    "\n",
    "def ver_inventario():\n",
    "    for producto in inventario: #para que me muestre todos los productos que hay en el inventario\n",
    "        print(\"Nombre:\", producto[\"nombre\"], \"Precio:\", producto[\"precio\"], \"Cantidad:\",\n",
    "producto[\"cantidad\"]) #da la orden de imprimir la lista"
   ]
  },
  {
   "cell_type": "code",
   "execution_count": 2,
   "id": "c6a17af1",
   "metadata": {},
   "outputs": [
    {
     "name": "stdout",
     "output_type": "stream",
     "text": [
      "Nombre: camisa Precio: 20 Cantidad: 3\n",
      "Nombre: zapatos Precio: 25 Cantidad: 4\n",
      "Nombre: sombrero Precio: 10 Cantidad: 5\n"
     ]
    }
   ],
   "source": [
    "ver_inventario()"
   ]
  },
  {
   "cell_type": "code",
   "execution_count": 44,
   "id": "e358bffe",
   "metadata": {},
   "outputs": [],
   "source": [
    "#Ejercicio 3\n",
    "def buscar_producto(nombre): #busca un producto\n",
    "    for producto in inventario: #le enseñamos dónde buscar\n",
    "        if producto[\"nombre\"] == nombre:\n",
    "            print(f\"Nombre: {producto[\"nombre\"]}, Precio: {producto[\"precio\"]}, Cantidad: {producto[\"cantidad\"]}\") #le indicamos lo que nos tiene que imprimir una vez busque"
   ]
  },
  {
   "cell_type": "code",
   "execution_count": 45,
   "id": "0d0439e8",
   "metadata": {},
   "outputs": [
    {
     "name": "stdout",
     "output_type": "stream",
     "text": [
      "Nombre: camisa, Precio: 20, Cantidad: 5\n"
     ]
    }
   ],
   "source": [
    "buscar_producto(\"camisa\")"
   ]
  },
  {
   "cell_type": "code",
   "execution_count": 46,
   "id": "2b02a703",
   "metadata": {},
   "outputs": [
    {
     "name": "stdout",
     "output_type": "stream",
     "text": [
      "Nombre: zapatos, Precio: 25, Cantidad: 4\n"
     ]
    }
   ],
   "source": [
    "buscar_producto(\"zapatos\")"
   ]
  },
  {
   "cell_type": "code",
   "execution_count": 47,
   "id": "02a7c5a5",
   "metadata": {},
   "outputs": [
    {
     "name": "stdout",
     "output_type": "stream",
     "text": [
      "Nombre: abrigo, Precio: 30, Cantidad: 18\n",
      "Nombre: abrigo, Precio: 30, Cantidad: 6\n",
      "Nombre: abrigo, Precio: 30, Cantidad: 6\n",
      "Nombre: abrigo, Precio: 30, Cantidad: 6\n",
      "Nombre: abrigo, Precio: 30, Cantidad: 6\n",
      "Nombre: abrigo, Precio: 30, Cantidad: 6\n"
     ]
    }
   ],
   "source": [
    "buscar_producto(\"abrigo\")"
   ]
  },
  {
   "cell_type": "code",
   "execution_count": 48,
   "id": "32e4c1d7",
   "metadata": {},
   "outputs": [
    {
     "name": "stdout",
     "output_type": "stream",
     "text": [
      "Nombre: sombrero, Precio: 10, Cantidad: 5\n"
     ]
    }
   ],
   "source": [
    "buscar_producto(\"sombrero\")"
   ]
  },
  {
   "cell_type": "code",
   "execution_count": 57,
   "id": "5063235d",
   "metadata": {},
   "outputs": [],
   "source": [
    "#Ejercicio 4\n",
    "def actualizar_stock(nombre, cantidad): \n",
    "    encontrado = False\n",
    "    for producto in inventario: #busca el producto\n",
    "        if producto[\"nombre\"] == nombre: #indico lo que tiene que hacer si el nombre del producto coincide\n",
    "            producto[\"cantidad\"] += 1  #indico que añada 1 a la cantidad del producto si el anterior paso se cumple (si el nombre coincide)\n",
    "            print(\"Producto actualizado\")\n",
    "            encontrado = True\n",
    "            break\n",
    "        else:\n",
    "            print(\"Producto no encontrado\")           \n"
   ]
  },
  {
   "cell_type": "code",
   "execution_count": 58,
   "id": "ffa34030",
   "metadata": {},
   "outputs": [
    {
     "name": "stdout",
     "output_type": "stream",
     "text": [
      "Producto actualizado\n"
     ]
    }
   ],
   "source": [
    "actualizar_stock(\"camisa\", 1)"
   ]
  },
  {
   "cell_type": "code",
   "execution_count": 62,
   "id": "df0ffba6",
   "metadata": {},
   "outputs": [
    {
     "data": {
      "text/plain": [
       "[{'nombre': 'camisa', 'precio': 20, 'cantidad': 6},\n",
       " {'nombre': 'zapatos', 'precio': 25, 'cantidad': 4},\n",
       " {'nombre': 'sombrero', 'precio': 10, 'cantidad': 6},\n",
       " {'nombre': 'abrigo', 'precio': 30, 'cantidad': 18},\n",
       " {'nombre': 'abrigo', 'precio': 30, 'cantidad': 6},\n",
       " {'nombre': 'abrigo', 'precio': 30, 'cantidad': 6},\n",
       " {'nombre': 'abrigo', 'precio': 30, 'cantidad': 6},\n",
       " {'nombre': 'abrigo', 'precio': 30, 'cantidad': 6},\n",
       " {'nombre': 'abrigo', 'precio': 30, 'cantidad': 6}]"
      ]
     },
     "execution_count": 62,
     "metadata": {},
     "output_type": "execute_result"
    }
   ],
   "source": [
    "inventario"
   ]
  },
  {
   "cell_type": "code",
   "execution_count": 64,
   "id": "62ef733f",
   "metadata": {},
   "outputs": [
    {
     "name": "stdout",
     "output_type": "stream",
     "text": [
      "Producto no encontrado\n",
      "Producto no encontrado\n",
      "Producto no encontrado\n",
      "Producto no encontrado\n",
      "Producto no encontrado\n",
      "Producto no encontrado\n",
      "Producto no encontrado\n",
      "Producto no encontrado\n",
      "Producto no encontrado\n"
     ]
    }
   ],
   "source": [
    "actualizar_stock(\"bufanda\",1)"
   ]
  },
  {
   "cell_type": "code",
   "execution_count": null,
   "id": "afd23d91",
   "metadata": {},
   "outputs": [],
   "source": [
    "#Ejercicio 5\n",
    "def eliminar_producto(nombre):\n",
    "    for producto in inventario:\n",
    "        if producto[\"nombre\"] == nombre:\n",
    "            inventario.remove(producto)\n",
    "        else:\n",
    "            print(\"El producto no está en el inventario\")\n"
   ]
  },
  {
   "cell_type": "code",
   "execution_count": 71,
   "id": "9799c15a",
   "metadata": {},
   "outputs": [
    {
     "name": "stdout",
     "output_type": "stream",
     "text": [
      "El producto no está en el inventario\n",
      "El producto no está en el inventario\n",
      "El producto no está en el inventario\n",
      "El producto no está en el inventario\n",
      "El producto no está en el inventario\n",
      "El producto no está en el inventario\n",
      "El producto no está en el inventario\n"
     ]
    }
   ],
   "source": [
    "eliminar_producto(\"camisa\")"
   ]
  },
  {
   "cell_type": "code",
   "execution_count": 72,
   "id": "e2e89425",
   "metadata": {},
   "outputs": [
    {
     "data": {
      "text/plain": [
       "[{'nombre': 'zapatos', 'precio': 25, 'cantidad': 4},\n",
       " {'nombre': 'sombrero', 'precio': 10, 'cantidad': 6},\n",
       " {'nombre': 'abrigo', 'precio': 30, 'cantidad': 18},\n",
       " {'nombre': 'abrigo', 'precio': 30, 'cantidad': 6},\n",
       " {'nombre': 'abrigo', 'precio': 30, 'cantidad': 6},\n",
       " {'nombre': 'abrigo', 'precio': 30, 'cantidad': 6},\n",
       " {'nombre': 'abrigo', 'precio': 30, 'cantidad': 6},\n",
       " {'nombre': 'abrigo', 'precio': 30, 'cantidad': 6}]"
      ]
     },
     "execution_count": 72,
     "metadata": {},
     "output_type": "execute_result"
    }
   ],
   "source": [
    "inventario"
   ]
  },
  {
   "cell_type": "code",
   "execution_count": null,
   "id": "3c8709eb",
   "metadata": {},
   "outputs": [],
   "source": [
    "#Ejercicio 6\n",
    "inventario = [{'nombre': 'zapatos', 'precio': 25, 'cantidad': 4},\n",
    " {'nombre': 'sombrero', 'precio': 10, 'cantidad': 6},\n",
    " {'nombre': 'abrigo', 'precio': 30, 'cantidad': 18},\n",
    " {'nombre': 'abrigo', 'precio': 30, 'cantidad': 6},\n",
    " {'nombre': 'abrigo', 'precio': 30, 'cantidad': 6},\n",
    " {'nombre': 'abrigo', 'precio': 30, 'cantidad': 6},\n",
    " {'nombre': 'abrigo', 'precio': 30, 'cantidad': 6},\n",
    " {'nombre': 'abrigo', 'precio': 30, 'cantidad': 6}]"
   ]
  },
  {
   "cell_type": "code",
   "execution_count": 16,
   "id": "a283d73d",
   "metadata": {},
   "outputs": [],
   "source": [
    " def calcular_valor_inventario(): #llamamos al a función\n",
    "    total_valor_inventario = 0 #creamos la variable donde se imprimirá el resultado\n",
    "    for producto in inventario: \n",
    "        total_valor_inventario += producto[\"precio\"] * producto[\"cantidad\"] \n",
    "    print(f\"Valor total del inventario: {total_valor_inventario}\")"
   ]
  },
  {
   "cell_type": "code",
   "execution_count": 17,
   "id": "7d310490",
   "metadata": {},
   "outputs": [
    {
     "name": "stdout",
     "output_type": "stream",
     "text": [
      "Valor total del inventario: 1600\n"
     ]
    }
   ],
   "source": [
    "calcular_valor_inventario()"
   ]
  },
  {
   "cell_type": "code",
   "execution_count": null,
   "id": "7c1193ec",
   "metadata": {},
   "outputs": [],
   "source": [
    "#Ejercicio 7\n",
    "inventario = [{'nombre': 'zapatos', 'precio': 25, 'cantidad': 4},  #plasmamos nuestro inventario para la función\n",
    " {'nombre': 'sombrero', 'precio': 10, 'cantidad': 6},\n",
    " {'nombre': 'abrigo', 'precio': 30, 'cantidad': 18},\n",
    " {'nombre': 'abrigo', 'precio': 30, 'cantidad': 6},\n",
    " {'nombre': 'abrigo', 'precio': 30, 'cantidad': 6},\n",
    " {'nombre': 'abrigo', 'precio': 30, 'cantidad': 6},\n",
    " {'nombre': 'abrigo', 'precio': 30, 'cantidad': 6},\n",
    " {'nombre': 'abrigo', 'precio': 30, 'cantidad': 6}]\n",
    "\n",
    "\n",
    "def realizar_compra():\n",
    "    carrito = [] #carrito vacío\n",
    "    respuesta = input(\"¿Quiere añadir otro producto al carrito?\") #pregunta 1\n",
    "    while respuesta == \"sí\":\n",
    "        producto = input(\"¿Qué producto quiere añadir?\") \n",
    "        encontrado = False\n",
    "        for prenda in inventario:\n",
    "            if prenda[\"nombre\"] == producto:\n",
    "                print(\"Producto añadido al carrito\")\n",
    "                carrito.append({\"nombre\": prenda[\"nombre\"], \"precio\": prenda[\"precio\"]}) #añadir al carrito\n",
    "                prenda[\"cantidad\"] -= 1 #lo resta del inventario\n",
    "                encontrado = True\n",
    "                break #rompe el for\n",
    "        if not encontrado:\n",
    "            print(\"Producto no encontrado en el inventario\")\n",
    "\n",
    "        respuesta = input(\"¿Quiere añadir otro producto al carrito?\")\n",
    "\n",
    "    total_compra = 0    \n",
    "    for producto in carrito: \n",
    "        total_compra += producto[\"precio\"]\n",
    "    print(f\"Valor total compra: {total_compra}\")"
   ]
  },
  {
   "cell_type": "code",
   "execution_count": 19,
   "id": "d16e026a",
   "metadata": {},
   "outputs": [
    {
     "name": "stdout",
     "output_type": "stream",
     "text": [
      "Producto añadido al carrito\n",
      "Valor total compra: 10\n"
     ]
    }
   ],
   "source": [
    "realizar_compra()"
   ]
  },
  {
   "cell_type": "code",
   "execution_count": 21,
   "id": "b5aa7525",
   "metadata": {},
   "outputs": [
    {
     "data": {
      "text/plain": [
       "[{'nombre': 'zapatos', 'precio': 25, 'cantidad': 4},\n",
       " {'nombre': 'sombrero', 'precio': 10, 'cantidad': 5},\n",
       " {'nombre': 'abrigo', 'precio': 30, 'cantidad': 18},\n",
       " {'nombre': 'abrigo', 'precio': 30, 'cantidad': 6},\n",
       " {'nombre': 'abrigo', 'precio': 30, 'cantidad': 6},\n",
       " {'nombre': 'abrigo', 'precio': 30, 'cantidad': 6},\n",
       " {'nombre': 'abrigo', 'precio': 30, 'cantidad': 6},\n",
       " {'nombre': 'abrigo', 'precio': 30, 'cantidad': 6}]"
      ]
     },
     "execution_count": 21,
     "metadata": {},
     "output_type": "execute_result"
    }
   ],
   "source": [
    "inventario"
   ]
  },
  {
   "cell_type": "code",
   "execution_count": 22,
   "id": "9bd70d8a",
   "metadata": {},
   "outputs": [
    {
     "name": "stdout",
     "output_type": "stream",
     "text": [
      "Producto no encontrado en el inventario\n",
      "Valor total compra: 0\n"
     ]
    }
   ],
   "source": [
    "realizar_compra()"
   ]
  }
 ],
 "metadata": {
  "kernelspec": {
   "display_name": "base",
   "language": "python",
   "name": "python3"
  },
  "language_info": {
   "codemirror_mode": {
    "name": "ipython",
    "version": 3
   },
   "file_extension": ".py",
   "mimetype": "text/x-python",
   "name": "python",
   "nbconvert_exporter": "python",
   "pygments_lexer": "ipython3",
   "version": "3.12.7"
  }
 },
 "nbformat": 4,
 "nbformat_minor": 5
}
